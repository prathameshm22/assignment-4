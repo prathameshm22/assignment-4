{
  "nbformat": 4,
  "nbformat_minor": 0,
  "metadata": {
    "colab": {
      "provenance": []
    },
    "kernelspec": {
      "name": "python3",
      "display_name": "Python 3"
    },
    "language_info": {
      "name": "python"
    }
  },
  "cells": [
    {
      "cell_type": "markdown",
      "source": [
        "# Problem 1\n",
        "\n",
        "1.\t# Remove None\n",
        "Write a Python program to remove None value from a given list. (Using list comprehension)\n",
        "Example 1: Input: [12, 0, None, 23, None, -55, 234, 89, None, 0, 6, -12]\n",
        "Output: [12, 0, 23, -55, 234, 89, 0, 6, -12]"
      ],
      "metadata": {
        "id": "kZnIpGhxokL_"
      }
    },
    {
      "cell_type": "code",
      "source": [
        "def remove_None(lst):\n",
        "    return [x for x in lst if x is not None]\n"
      ],
      "metadata": {
        "id": "M1_AG4tnqGT3"
      },
      "execution_count": 6,
      "outputs": []
    },
    {
      "cell_type": "code",
      "source": [
        "input_list = [12, 0, None, 23, None, -55, 234, 89, None, 0, 6, -12]\n",
        "output_list = remove_None(input_list)\n",
        "print(output_list)\n"
      ],
      "metadata": {
        "colab": {
          "base_uri": "https://localhost:8080/"
        },
        "id": "bG7I3vtKqKtp",
        "outputId": "e9e9c8ad-9f97-4189-e38e-78da336aa82a"
      },
      "execution_count": 7,
      "outputs": [
        {
          "output_type": "stream",
          "name": "stdout",
          "text": [
            "[12, 0, 23, -55, 234, 89, 0, 6, -12]\n"
          ]
        }
      ]
    },
    {
      "cell_type": "markdown",
      "source": [
        "\n",
        "2.\t# write a function for calculating area of a square \n",
        "\n",
        "input: a=12\n",
        "output: 144\n"
      ],
      "metadata": {
        "id": "pzAhpb2mqpJu"
      }
    },
    {
      "cell_type": "code",
      "source": [
        "def square_area(side):\n",
        "    return side**2\n"
      ],
      "metadata": {
        "id": "btbZ-Xc_qLZx"
      },
      "execution_count": 8,
      "outputs": []
    },
    {
      "cell_type": "code",
      "source": [
        "side = 12\n",
        "area = square_area(side)\n",
        "print(area)\n"
      ],
      "metadata": {
        "colab": {
          "base_uri": "https://localhost:8080/"
        },
        "id": "_T5NhQCxqr0z",
        "outputId": "d9e9f206-0ef7-445e-e700-b3fddd540965"
      },
      "execution_count": 9,
      "outputs": [
        {
          "output_type": "stream",
          "name": "stdout",
          "text": [
            "144\n"
          ]
        }
      ]
    },
    {
      "cell_type": "markdown",
      "source": [
        "3.\t# write a function for calculating area of a circle\n",
        "\n",
        "input: r=10\n",
        "output: 200.96\n"
      ],
      "metadata": {
        "id": "6Iowwbjzq9pt"
      }
    },
    {
      "cell_type": "code",
      "source": [
        "import math\n",
        "\n",
        "def circle_area(radius):\n",
        "    return math.pi * radius**2\n"
      ],
      "metadata": {
        "id": "CzqcxsaTqtzT"
      },
      "execution_count": 10,
      "outputs": []
    },
    {
      "cell_type": "code",
      "source": [
        "radius = 10\n",
        "area = circle_area(radius)\n",
        "print(area)\n"
      ],
      "metadata": {
        "colab": {
          "base_uri": "https://localhost:8080/"
        },
        "id": "U5cmCEhGrBOV",
        "outputId": "5c035f4b-6a44-46ac-cab9-cebe35cdbed6"
      },
      "execution_count": 11,
      "outputs": [
        {
          "output_type": "stream",
          "name": "stdout",
          "text": [
            "314.1592653589793\n"
          ]
        }
      ]
    },
    {
      "cell_type": "code",
      "source": [],
      "metadata": {
        "id": "4G-N5stLrEtz"
      },
      "execution_count": null,
      "outputs": []
    }
  ]
}